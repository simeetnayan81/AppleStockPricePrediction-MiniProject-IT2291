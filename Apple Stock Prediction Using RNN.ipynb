{
 "cells": [
  {
   "cell_type": "markdown",
   "id": "05c6f11e",
   "metadata": {},
   "source": [
    "# Apple Stock Price Prediction using RNN(LSTM)\n",
    "#### This is a study of apple stock price prediction using Recurrent Neural Networks for the Mini Project (IT2291), 2022."
   ]
  },
  {
   "cell_type": "code",
   "execution_count": 43,
   "id": "2bffe4e4",
   "metadata": {},
   "outputs": [
    {
     "data": {
      "text/html": [
       "<div>\n",
       "<style scoped>\n",
       "    .dataframe tbody tr th:only-of-type {\n",
       "        vertical-align: middle;\n",
       "    }\n",
       "\n",
       "    .dataframe tbody tr th {\n",
       "        vertical-align: top;\n",
       "    }\n",
       "\n",
       "    .dataframe thead th {\n",
       "        text-align: right;\n",
       "    }\n",
       "</style>\n",
       "<table border=\"1\" class=\"dataframe\">\n",
       "  <thead>\n",
       "    <tr style=\"text-align: right;\">\n",
       "      <th></th>\n",
       "      <th>Date</th>\n",
       "      <th>Open</th>\n",
       "      <th>High</th>\n",
       "      <th>Low</th>\n",
       "      <th>Close</th>\n",
       "      <th>Adj Close</th>\n",
       "      <th>Volume</th>\n",
       "    </tr>\n",
       "  </thead>\n",
       "  <tbody>\n",
       "    <tr>\n",
       "      <th>0</th>\n",
       "      <td>1980-12-12</td>\n",
       "      <td>0.128348</td>\n",
       "      <td>0.128906</td>\n",
       "      <td>0.128348</td>\n",
       "      <td>0.128348</td>\n",
       "      <td>0.100178</td>\n",
       "      <td>469033600</td>\n",
       "    </tr>\n",
       "    <tr>\n",
       "      <th>1</th>\n",
       "      <td>1980-12-15</td>\n",
       "      <td>0.122210</td>\n",
       "      <td>0.122210</td>\n",
       "      <td>0.121652</td>\n",
       "      <td>0.121652</td>\n",
       "      <td>0.094952</td>\n",
       "      <td>175884800</td>\n",
       "    </tr>\n",
       "    <tr>\n",
       "      <th>2</th>\n",
       "      <td>1980-12-16</td>\n",
       "      <td>0.113281</td>\n",
       "      <td>0.113281</td>\n",
       "      <td>0.112723</td>\n",
       "      <td>0.112723</td>\n",
       "      <td>0.087983</td>\n",
       "      <td>105728000</td>\n",
       "    </tr>\n",
       "    <tr>\n",
       "      <th>3</th>\n",
       "      <td>1980-12-17</td>\n",
       "      <td>0.115513</td>\n",
       "      <td>0.116071</td>\n",
       "      <td>0.115513</td>\n",
       "      <td>0.115513</td>\n",
       "      <td>0.090160</td>\n",
       "      <td>86441600</td>\n",
       "    </tr>\n",
       "    <tr>\n",
       "      <th>4</th>\n",
       "      <td>1980-12-18</td>\n",
       "      <td>0.118862</td>\n",
       "      <td>0.119420</td>\n",
       "      <td>0.118862</td>\n",
       "      <td>0.118862</td>\n",
       "      <td>0.092774</td>\n",
       "      <td>73449600</td>\n",
       "    </tr>\n",
       "    <tr>\n",
       "      <th>5</th>\n",
       "      <td>1980-12-19</td>\n",
       "      <td>0.126116</td>\n",
       "      <td>0.126674</td>\n",
       "      <td>0.126116</td>\n",
       "      <td>0.126116</td>\n",
       "      <td>0.098436</td>\n",
       "      <td>48630400</td>\n",
       "    </tr>\n",
       "    <tr>\n",
       "      <th>6</th>\n",
       "      <td>1980-12-22</td>\n",
       "      <td>0.132254</td>\n",
       "      <td>0.132813</td>\n",
       "      <td>0.132254</td>\n",
       "      <td>0.132254</td>\n",
       "      <td>0.103227</td>\n",
       "      <td>37363200</td>\n",
       "    </tr>\n",
       "    <tr>\n",
       "      <th>7</th>\n",
       "      <td>1980-12-23</td>\n",
       "      <td>0.137835</td>\n",
       "      <td>0.138393</td>\n",
       "      <td>0.137835</td>\n",
       "      <td>0.137835</td>\n",
       "      <td>0.107583</td>\n",
       "      <td>46950400</td>\n",
       "    </tr>\n",
       "    <tr>\n",
       "      <th>8</th>\n",
       "      <td>1980-12-24</td>\n",
       "      <td>0.145089</td>\n",
       "      <td>0.145647</td>\n",
       "      <td>0.145089</td>\n",
       "      <td>0.145089</td>\n",
       "      <td>0.113245</td>\n",
       "      <td>48003200</td>\n",
       "    </tr>\n",
       "    <tr>\n",
       "      <th>9</th>\n",
       "      <td>1980-12-26</td>\n",
       "      <td>0.158482</td>\n",
       "      <td>0.159040</td>\n",
       "      <td>0.158482</td>\n",
       "      <td>0.158482</td>\n",
       "      <td>0.123699</td>\n",
       "      <td>55574400</td>\n",
       "    </tr>\n",
       "  </tbody>\n",
       "</table>\n",
       "</div>"
      ],
      "text/plain": [
       "         Date      Open      High       Low     Close  Adj Close     Volume\n",
       "0  1980-12-12  0.128348  0.128906  0.128348  0.128348   0.100178  469033600\n",
       "1  1980-12-15  0.122210  0.122210  0.121652  0.121652   0.094952  175884800\n",
       "2  1980-12-16  0.113281  0.113281  0.112723  0.112723   0.087983  105728000\n",
       "3  1980-12-17  0.115513  0.116071  0.115513  0.115513   0.090160   86441600\n",
       "4  1980-12-18  0.118862  0.119420  0.118862  0.118862   0.092774   73449600\n",
       "5  1980-12-19  0.126116  0.126674  0.126116  0.126116   0.098436   48630400\n",
       "6  1980-12-22  0.132254  0.132813  0.132254  0.132254   0.103227   37363200\n",
       "7  1980-12-23  0.137835  0.138393  0.137835  0.137835   0.107583   46950400\n",
       "8  1980-12-24  0.145089  0.145647  0.145089  0.145089   0.113245   48003200\n",
       "9  1980-12-26  0.158482  0.159040  0.158482  0.158482   0.123699   55574400"
      ]
     },
     "execution_count": 43,
     "metadata": {},
     "output_type": "execute_result"
    }
   ],
   "source": [
    "import os \n",
    "import numpy as np\n",
    "import matplotlib.pyplot as plt\n",
    "import pandas as pd\n",
    "from sklearn.preprocessing import MinMaxScaler\n",
    "from tensorflow.keras import Sequential\n",
    "from tensorflow.keras.layers import Dense, LSTM, Dropout\n",
    "\n",
    "\n",
    "data = pd.read_csv('./AAPL.csv', date_parser = True)\n",
    "data.head(10)"
   ]
  },
  {
   "cell_type": "code",
   "execution_count": 44,
   "id": "b46660ca",
   "metadata": {},
   "outputs": [
    {
     "name": "stdout",
     "output_type": "stream",
     "text": [
      "[1.38050003e+02 1.38789993e+02 1.34339996e+02 1.36690002e+02\n",
      " 7.42164080e+09]\n",
      "[0.049665 0.049665 0.049107 0.049107 0.      ]\n"
     ]
    }
   ],
   "source": [
    "Dtrain = data[data['Date']<'2020-12-31'].copy()\n",
    "Dtest = data[data['Date']>='2020-12-31'].copy()\n",
    "Dtrain = Dtrain.drop(['Date', 'Adj Close'], axis = 1)\n",
    "Dtest = Dtest.drop(['Date', 'Adj Close'], axis = 1)\n",
    "Dtrain.head(10)\n",
    "#Dtest.head(10)\n",
    "\n",
    "#Scaling and bringing the values in the range Min-Max\n",
    "scaler = MinMaxScaler((0, 1))\n",
    "scaler.fit(Dtrain)\n",
    "print(scaler.data_max_)\n",
    "print(scaler.data_min_)\n",
    "Ymax=scaler.data_max_[0]\n",
    "Ymin=scaler.data_min_[0]\n",
    "Dtrain=scaler.transform(Dtrain)"
   ]
  },
  {
   "cell_type": "markdown",
   "id": "47f5e088",
   "metadata": {},
   "source": [
    "##### Splitting the data into Xtrain and Ytrain"
   ]
  },
  {
   "cell_type": "code",
   "execution_count": 45,
   "id": "da24a0af",
   "metadata": {},
   "outputs": [
    {
     "data": {
      "text/plain": [
       "10099"
      ]
     },
     "execution_count": 45,
     "metadata": {},
     "output_type": "execute_result"
    }
   ],
   "source": [
    "Xtrain=[]\n",
    "Ytrain=[]\n",
    "Dtrain.shape[0]"
   ]
  },
  {
   "cell_type": "markdown",
   "id": "f495f522",
   "metadata": {},
   "source": [
    "\n",
    "##### For every day, we are keeping past 60 days data in the XTrain, then we will be keeping current day Open Price in YTrain\n",
    "##### For example XTrain[101] will contain 60*5 matrix of last 60 days data before 101st day, this is done to prevent overfitting, we are creating 50 timesteps\n",
    "##### YTrain[101] will contain the price at which stock opnened on the 101st day"
   ]
  },
  {
   "cell_type": "code",
   "execution_count": 46,
   "id": "3671b96f",
   "metadata": {},
   "outputs": [],
   "source": [
    "\n",
    "for i in range(80, Dtrain.shape[0]):\n",
    "    Xtrain.append(Dtrain[i-80:i])\n",
    "    Ytrain.append(Dtrain[i, 0])"
   ]
  },
  {
   "cell_type": "code",
   "execution_count": 47,
   "id": "13b28613",
   "metadata": {},
   "outputs": [
    {
     "name": "stdout",
     "output_type": "stream",
     "text": [
      "(10019, 80, 5)\n",
      "(10019,)\n"
     ]
    }
   ],
   "source": [
    "Xtrain, Ytrain = np.array(Xtrain), np.array(Ytrain)\n",
    "print(Xtrain.shape)\n",
    "print(Ytrain.shape)"
   ]
  },
  {
   "cell_type": "markdown",
   "id": "40962b1d",
   "metadata": {},
   "source": [
    "### Building RNN"
   ]
  },
  {
   "cell_type": "code",
   "execution_count": 31,
   "id": "74a9d7dc",
   "metadata": {},
   "outputs": [],
   "source": [
    "\n",
    "from tensorflow.keras import Sequential\n",
    "from tensorflow.keras.layers import Dense, LSTM, Dropout\n",
    "\n",
    "model = Sequential()\n",
    "model.add(LSTM(units = 90, activation = 'relu', return_sequences = True, input_shape = (Xtrain.shape[1], 5)))\n",
    "model.add(Dropout(0.2))\n",
    "\n",
    "model.add(LSTM(units = 90, activation = 'relu', return_sequences = True))\n",
    "model.add(Dropout(0.2))\n",
    "\n",
    "model.add(LSTM(units = 120, activation = 'relu', return_sequences = True))\n",
    "model.add(Dropout(0.2))\n",
    "\n",
    "model.add(LSTM(units = 120, activation = 'relu'))\n",
    "model.add(Dropout(0.2))\n",
    "\n",
    "model.add(Dense(1, activation='relu'))"
   ]
  },
  {
   "cell_type": "code",
   "execution_count": 32,
   "id": "96e3a07d",
   "metadata": {},
   "outputs": [
    {
     "name": "stdout",
     "output_type": "stream",
     "text": [
      "Model: \"sequential_2\"\n",
      "_________________________________________________________________\n",
      " Layer (type)                Output Shape              Param #   \n",
      "=================================================================\n",
      " lstm_8 (LSTM)               (None, 80, 90)            34560     \n",
      "                                                                 \n",
      " dropout_8 (Dropout)         (None, 80, 90)            0         \n",
      "                                                                 \n",
      " lstm_9 (LSTM)               (None, 80, 90)            65160     \n",
      "                                                                 \n",
      " dropout_9 (Dropout)         (None, 80, 90)            0         \n",
      "                                                                 \n",
      " lstm_10 (LSTM)              (None, 80, 120)           101280    \n",
      "                                                                 \n",
      " dropout_10 (Dropout)        (None, 80, 120)           0         \n",
      "                                                                 \n",
      " lstm_11 (LSTM)              (None, 120)               115680    \n",
      "                                                                 \n",
      " dropout_11 (Dropout)        (None, 120)               0         \n",
      "                                                                 \n",
      " dense_2 (Dense)             (None, 1)                 121       \n",
      "                                                                 \n",
      "=================================================================\n",
      "Total params: 316,801\n",
      "Trainable params: 316,801\n",
      "Non-trainable params: 0\n",
      "_________________________________________________________________\n"
     ]
    }
   ],
   "source": [
    "model.summary()"
   ]
  },
  {
   "cell_type": "markdown",
   "id": "3203ea5f",
   "metadata": {},
   "source": [
    "### Training"
   ]
  },
  {
   "cell_type": "code",
   "execution_count": 33,
   "id": "c733f6bf",
   "metadata": {
    "scrolled": true
   },
   "outputs": [
    {
     "name": "stdout",
     "output_type": "stream",
     "text": [
      "Epoch 1/5\n",
      "201/201 [==============================] - 66s 300ms/step - loss: 0.0014 - accuracy: 1.9962e-04\n",
      "Epoch 2/5\n",
      "201/201 [==============================] - 62s 308ms/step - loss: 5.8999e-04 - accuracy: 1.9962e-04\n",
      "Epoch 3/5\n",
      "201/201 [==============================] - 60s 299ms/step - loss: 4.2221e-04 - accuracy: 1.9962e-04\n",
      "Epoch 4/5\n",
      "201/201 [==============================] - 60s 299ms/step - loss: 3.5569e-04 - accuracy: 1.9962e-04\n",
      "Epoch 5/5\n",
      "201/201 [==============================] - 60s 300ms/step - loss: 3.8863e-04 - accuracy: 1.9962e-04\n"
     ]
    },
    {
     "data": {
      "text/plain": [
       "<keras.callbacks.History at 0x7f8ebfc96500>"
      ]
     },
     "execution_count": 33,
     "metadata": {},
     "output_type": "execute_result"
    }
   ],
   "source": [
    "model.compile(optimizer='adam', loss = 'mean_squared_error',  metrics='accuracy')\n",
    "model.fit(Xtrain, Ytrain, epochs=5, batch_size=50)"
   ]
  },
  {
   "cell_type": "markdown",
   "id": "056ef11e",
   "metadata": {},
   "source": [
    "### Preparing the test dataset"
   ]
  },
  {
   "cell_type": "code",
   "execution_count": 34,
   "id": "38903e6c",
   "metadata": {},
   "outputs": [
    {
     "name": "stderr",
     "output_type": "stream",
     "text": [
      "/tmp/ipykernel_39952/3961747049.py:5: FutureWarning: The frame.append method is deprecated and will be removed from pandas in a future version. Use pandas.concat instead.\n",
      "  dataTest = last80days.append(Dtest, ignore_index = True)\n"
     ]
    },
    {
     "data": {
      "text/html": [
       "<div>\n",
       "<style scoped>\n",
       "    .dataframe tbody tr th:only-of-type {\n",
       "        vertical-align: middle;\n",
       "    }\n",
       "\n",
       "    .dataframe tbody tr th {\n",
       "        vertical-align: top;\n",
       "    }\n",
       "\n",
       "    .dataframe thead th {\n",
       "        text-align: right;\n",
       "    }\n",
       "</style>\n",
       "<table border=\"1\" class=\"dataframe\">\n",
       "  <thead>\n",
       "    <tr style=\"text-align: right;\">\n",
       "      <th></th>\n",
       "      <th>Open</th>\n",
       "      <th>High</th>\n",
       "      <th>Low</th>\n",
       "      <th>Close</th>\n",
       "      <th>Volume</th>\n",
       "    </tr>\n",
       "  </thead>\n",
       "  <tbody>\n",
       "    <tr>\n",
       "      <th>410</th>\n",
       "      <td>161.119995</td>\n",
       "      <td>163.169998</td>\n",
       "      <td>158.460007</td>\n",
       "      <td>162.880005</td>\n",
       "      <td>96046400</td>\n",
       "    </tr>\n",
       "    <tr>\n",
       "      <th>411</th>\n",
       "      <td>162.250000</td>\n",
       "      <td>162.339996</td>\n",
       "      <td>156.720001</td>\n",
       "      <td>156.800003</td>\n",
       "      <td>95623200</td>\n",
       "    </tr>\n",
       "    <tr>\n",
       "      <th>412</th>\n",
       "      <td>155.910004</td>\n",
       "      <td>159.789993</td>\n",
       "      <td>155.380005</td>\n",
       "      <td>156.570007</td>\n",
       "      <td>88063200</td>\n",
       "    </tr>\n",
       "    <tr>\n",
       "      <th>413</th>\n",
       "      <td>159.250000</td>\n",
       "      <td>164.520004</td>\n",
       "      <td>158.929993</td>\n",
       "      <td>163.639999</td>\n",
       "      <td>130216800</td>\n",
       "    </tr>\n",
       "    <tr>\n",
       "      <th>414</th>\n",
       "      <td>161.839996</td>\n",
       "      <td>166.199997</td>\n",
       "      <td>157.250000</td>\n",
       "      <td>157.649994</td>\n",
       "      <td>131587100</td>\n",
       "    </tr>\n",
       "  </tbody>\n",
       "</table>\n",
       "</div>"
      ],
      "text/plain": [
       "           Open        High         Low       Close     Volume\n",
       "410  161.119995  163.169998  158.460007  162.880005   96046400\n",
       "411  162.250000  162.339996  156.720001  156.800003   95623200\n",
       "412  155.910004  159.789993  155.380005  156.570007   88063200\n",
       "413  159.250000  164.520004  158.929993  163.639999  130216800\n",
       "414  161.839996  166.199997  157.250000  157.649994  131587100"
      ]
     },
     "execution_count": 34,
     "metadata": {},
     "output_type": "execute_result"
    }
   ],
   "source": [
    "Dt = data[data['Date']<'2020-12-31'].copy()\n",
    "last80days = Dt.tail(80)\n",
    "last80days=last80days.drop(['Date', 'Adj Close'], axis = 1)\n",
    "#last60days.head()\n",
    "dataTest = last80days.append(Dtest, ignore_index = True)\n",
    "dataTest.tail()"
   ]
  },
  {
   "cell_type": "code",
   "execution_count": 37,
   "id": "80ffe3a8",
   "metadata": {},
   "outputs": [],
   "source": [
    "scaler.fit(dataTest)\n",
    "YmaxTest=scaler.data_max_[0]\n",
    "YminTest=scaler.data_min_[0]\n",
    "d=scaler.transform(dataTest)\n",
    "Xtest = []\n",
    "Ytest = []\n",
    "for i in range(80, d.shape[0]):\n",
    "    Xtest.append(d[i-80:i])\n",
    "    Ytest.append(d[i, 0])\n",
    "Xtest, Ytest = np.array(Xtest), np.array(Ytest)"
   ]
  },
  {
   "cell_type": "markdown",
   "id": "53a80363",
   "metadata": {},
   "source": [
    "### Prediction\n",
    "##### Storing the predicted values in Ypred"
   ]
  },
  {
   "cell_type": "code",
   "execution_count": 38,
   "id": "28743244",
   "metadata": {},
   "outputs": [],
   "source": [
    "Ypred=model.predict(Xtest)"
   ]
  },
  {
   "cell_type": "markdown",
   "id": "b588d966",
   "metadata": {},
   "source": [
    "##### Inverse Scaling the prices to original scale"
   ]
  },
  {
   "cell_type": "code",
   "execution_count": 39,
   "id": "c5113737",
   "metadata": {},
   "outputs": [],
   "source": [
    "YpredN=[]\n",
    "for i in Ypred:\n",
    "    YpredN.append(i[0]*(YmaxTest-YminTest)+YminTest)\n",
    "Ypred=YpredN\n",
    "YtestN=[]\n",
    "for i in Ytest:\n",
    "    YtestN.append(i*(YmaxTest-YminTest)+YminTest)\n",
    "Ytest=YtestN\n",
    "Ypred=np.array(Ypred)\n",
    "Ytest=np.array(Ytest)"
   ]
  },
  {
   "cell_type": "code",
   "execution_count": 40,
   "id": "85a8ff5a",
   "metadata": {
    "scrolled": true
   },
   "outputs": [
    {
     "name": "stdout",
     "output_type": "stream",
     "text": [
      "134.080002\n",
      "125.13874499376607\n"
     ]
    }
   ],
   "source": [
    "print(Ytest[0])\n",
    "print(Ypred[0])"
   ]
  },
  {
   "cell_type": "markdown",
   "id": "d7eb9e1a",
   "metadata": {},
   "source": [
    "### Visualization"
   ]
  },
  {
   "cell_type": "code",
   "execution_count": 41,
   "id": "aa8f080d",
   "metadata": {},
   "outputs": [
    {
     "data": {
      "image/png": "[encoded data removed]",
      "text/plain": [
       "<Figure size 1080x360 with 1 Axes>"
      ]
     },
     "metadata": {
      "needs_background": "light"
     },
     "output_type": "display_data"
    }
   ],
   "source": [
    "plt.figure(figsize=(15,5))\n",
    "plt.plot(Ytest, color = 'blue', label = 'Real Apple Stock Price')\n",
    "plt.plot(Ypred, color = 'green', label = 'Predicted Apple Stock Price')\n",
    "plt.title('Apple Stock Price Prediction')\n",
    "plt.xlabel('Time(Days)')\n",
    "plt.ylabel('Price')\n",
    "plt.legend()\n",
    "plt.show()"
   ]
  },
  {
   "cell_type": "markdown",
   "id": "5bec0026",
   "metadata": {},
   "source": [
    "### Evaluation"
   ]
  },
  {
   "cell_type": "code",
   "execution_count": 42,
   "id": "13931c23",
   "metadata": {},
   "outputs": [
    {
     "name": "stdout",
     "output_type": "stream",
     "text": [
      "Mean Squared Error =  39.34950716950907\n",
      "R2 Score (Max is 1) =  0.8704368938999856\n"
     ]
    }
   ],
   "source": [
    "from sklearn.metrics import mean_squared_error, r2_score\n",
    "mse = mean_squared_error(Ytest, Ypred)\n",
    "print('Mean Squared Error = ', mse)\n",
    "\n",
    "r2s=r2_score(Ytest, Ypred)\n",
    "print('R2 Score (Max is 1) = ',r2s)\n"
   ]
  },
  {
   "cell_type": "code",
   "execution_count": null,
   "id": "a95ba57d",
   "metadata": {},
   "outputs": [],
   "source": []
  }
 ],
 "metadata": {
  "kernelspec": {
   "display_name": "Python 3 (ipykernel)",
   "language": "python",
   "name": "python3"
  },
  "language_info": {
   "codemirror_mode": {
    "name": "ipython",
    "version": 3
   },
   "file_extension": ".py",
   "mimetype": "text/x-python",
   "name": "python",
   "nbconvert_exporter": "python",
   "pygments_lexer": "ipython3",
   "version": "3.10.4"
  }
 },
 "nbformat": 4,
 "nbformat_minor": 5
}
